{
  "nbformat": 4,
  "nbformat_minor": 0,
  "metadata": {
    "colab": {
      "name": "lstm nlp.ipynb",
      "version": "0.3.2",
      "provenance": [],
      "collapsed_sections": [],
      "include_colab_link": true
    },
    "kernelspec": {
      "name": "python3",
      "display_name": "Python 3"
    },
    "accelerator": "GPU"
  },
  "cells": [
    {
      "cell_type": "markdown",
      "metadata": {
        "id": "view-in-github",
        "colab_type": "text"
      },
      "source": [
        "<a href=\"https://colab.research.google.com/github/michelgawron/NLP_LSTM/blob/master/lstm_nlp.ipynb\" target=\"_parent\"><img src=\"https://colab.research.google.com/assets/colab-badge.svg\" alt=\"Open In Colab\"/></a>"
      ]
    },
    {
      "cell_type": "code",
      "metadata": {
        "id": "lt3kOZTt4HYJ",
        "colab_type": "code",
        "colab": {}
      },
      "source": [
        "# Author: Robert Guthrie\n",
        "\n",
        "import torch\n",
        "import torch.nn as nn\n",
        "import torch.nn.functional as F\n",
        "import torch.optim as optim\n",
        "import matplotlib.pyplot as plt\n",
        "import seaborn as sns\n",
        "from sklearn.preprocessing import StandardScaler # for normalization\n",
        "from sklearn.preprocessing import MinMaxScaler\n",
        "from sklearn.metrics import r2_score\n",
        "from sklearn.model_selection import train_test_split\n",
        "from random import choices, choice\n",
        "import numpy as np\n",
        "import spacy\n",
        "\n",
        "device = torch.device('cuda' if torch.cuda.is_available() else 'cpu')\n",
        "#torch.manual_seed(1)"
      ],
      "execution_count": 0,
      "outputs": []
    },
    {
      "cell_type": "markdown",
      "metadata": {
        "id": "lojFluYPs9s9",
        "colab_type": "text"
      },
      "source": [
        "# Dataset class\n",
        "\n",
        "We are going to create a Dataset class to handle our dataset"
      ]
    },
    {
      "cell_type": "code",
      "metadata": {
        "id": "iNZHP4aatCvI",
        "colab_type": "code",
        "colab": {}
      },
      "source": [
        "class Dataset():\n",
        "  def __init__(self, dataset):\n",
        "    \"\"\"\n",
        "    Initialize a dataset object\n",
        "    \"\"\"\n",
        "    self.__dataset = dataset\n",
        "    self.__nlp = spacy.load(\"en_core_web_sm\")\n",
        "    \n",
        "  def set_dataset(self, dataset):\n",
        "    self.__dataset = dataset\n",
        "    \n",
        "    \n",
        "  def preprocess_data(self, min_word_appearance=1):\n",
        "    \"\"\"\n",
        "    Preprocess the data in the dataset\n",
        "    Args:\n",
        "      - min_word_appearance: Minimum number of occurences of a word to be used in the corpus\n",
        "    \"\"\"\n",
        "    # Tokenizing the words\n",
        "    print(\"Started pre-processing data..\")\n",
        "    list_docs = []\n",
        "    for doc in self.__nlp.tokenizer.pipe(self.__dataset[\"title\"], batch_size=10000):\n",
        "      list_docs.append(doc)\n",
        "    self.__dataset[\"spacy\"] = list_docs\n",
        "    print(\"Tokenizer done !\")\n",
        "    \n",
        "    # Getting one hot vectors for categories\n",
        "    dict_classes = {\"b\": 0, \"m\": 1, \"e\": 2, \"t\": 3}\n",
        "    self.__dataset[\"ncat\"] = self.__dataset[\"cat\"].apply(lambda x: [1 if cat == x else 0 for cat in dict_classes.keys()])\n",
        "    print(\"Categories done !\")\n",
        "    \n",
        "    # Applying maj and up tags\n",
        "    self.__dataset[\"tagged\"] = self.__dataset[\"spacy\"].apply(lambda x: self.apply_tags(x))\n",
        "    print(\"Sentences tagged !\")\n",
        "    \n",
        "    # Getting word count\n",
        "    self.__dataset[\"word_count\"] = self.__dataset[\"tagged\"].apply(lambda x: {word: x.count(word) for word in set(x)})\n",
        "    \n",
        "    # Creating a dictionary containing the whole corpus word count, a second dict contains elements that appears too rarely to be used\n",
        "    self.__word_count = self.create_word_count(self.__dataset[\"word_count\"])\n",
        "    self.__unk_words = {k: w for k, w in self.__word_count.items() if w == min_word_appearance}\n",
        "    print(\"Words counted !\")\n",
        "    \n",
        "    # Tagging unknown words\n",
        "    self.__dataset[\"tagged_unk\"] = self.__dataset[\"tagged\"].apply(lambda x: [w if self.__unk_words.get(w, 0) == 0 else \"xxunk\" for w in x])\n",
        "    print(\"Unknown words tagged !\")\n",
        "    \n",
        "    # Creating a dictionary of integer embeddings\n",
        "    self.__int_embed = self.create_integer_embedding(self.__dataset[\"tagged_unk\"])\n",
        "    print(\"Integers embeddings dict created !\")\n",
        "    \n",
        "    # Creating a vector of integers embeddings for the sentences\n",
        "    self.__dataset[\"int_tagged\"] = self.__dataset[\"tagged_unk\"].apply(lambda x: [self.__int_embed.get(w) for w in x])\n",
        "    print(\"Sentences embedded into integers\")\n",
        "    \n",
        "    self.__dataset = self.__dataset.drop([\"tagged\", \"word_count\", \"spacy\", \"cat\"], axis=1)\n",
        "    print(\"Dropped what should be dropped\")\n",
        "    \n",
        "  def create_train_test_tensors(self, train_size=0.90):\n",
        "    \"\"\"\n",
        "    Creates four tensors representing the train and test data\n",
        "    \"\"\"\n",
        "    train_limit = train_size * len(self.__dataset)\n",
        "    self.__train_dataset, self.__test_dataset = train_test_split(self.__dataset[(self.__dataset[\"tagged_unk\"].apply(lambda x: len(x)) > 5) & (self.__dataset[\"tagged_unk\"].apply(lambda x: len(x)) <= 50)], train_size=train_size)\n",
        "    #self.__dataset = self.__dataset[self.__dataset[\"tagged_unk\"].apply(lambda x: len(x)) > 5]\n",
        "    self.__train_datasets = [self.__train_dataset[(self.__train_dataset[\"tagged_unk\"].apply(lambda x: len(x)) > 5*i) & (self.__train_dataset[\"tagged_unk\"].apply(lambda x: len(x)) <= 5*(i+1))] for i in range(2, 7)]\n",
        "    self.__test_datasets = [self.__test_dataset[(self.__test_dataset[\"tagged_unk\"].apply(lambda x: len(x)) > 5*i) & (self.__test_dataset[\"tagged_unk\"].apply(lambda x: len(x)) <= 5*(i+1))] for i in range(2, 7)]\n",
        "    # We need to transform it to tensor and store it\n",
        "    # Then we need to create two functions getBatch, and padSequence to getbatches of same sequence lengths\n",
        "    \n",
        "  def pad_sentences(self, batch):\n",
        "    \"\"\"\n",
        "    Pad sentences from a batch with zeroes\n",
        "    \"\"\"\n",
        "    length = max([len(seq) for seq in batch])\n",
        "    return torch.tensor([seq + [0] * (length - len(seq)) for seq in batch]).view(len(batch), length, 1)\n",
        "  \n",
        "  def get_batch(self, size=32, test=False):\n",
        "    \"\"\"\n",
        "    Get a batch for training or testing\n",
        "    \"\"\"\n",
        "    if test:\n",
        "      dataset = [self.__test_datasets[1]]\n",
        "      #dataset = choices(self.__test_datasets, weights=[len(ds)for ds in self.__test_datasets], k=1) # Doesn't preserve the initial type - need to change it\n",
        "    else:\n",
        "      dataset = choices(self.__train_datasets, weights=[len(ds) for ds in self.__train_datasets], k=1)\n",
        "    # choices returns a list of \n",
        "    dataset = dataset[0]\n",
        "    batch = dataset.sample(n=size)\n",
        "    x_data = batch[\"int_tagged\"]\n",
        "    y_data = list(batch[\"ncat\"])\n",
        "    return self.pad_sentences(x_data).to(device), torch.tensor(y_data).view(size, 4).to(device) #separate x and y\n",
        "  \n",
        "  def apply_tags(self, sentence):\n",
        "    \"\"\"\n",
        "    Function used to apply a set of tags to our words\n",
        "    Tags:\n",
        "      - xxmaj: words starting with uppercase\n",
        "      - xxup: full uppercase words\n",
        "    \"\"\"\n",
        "    res = []\n",
        "    for t in sentence:\n",
        "      if t.text[0].isupper() and t.text[1:].islower():\n",
        "        res.append(\"xxmaj\")\n",
        "      elif t.text[:].isupper():\n",
        "        res.append(\"xxup\")\n",
        "      res.append(t.text.lower())\n",
        "    return res\n",
        "  \n",
        "  def create_word_count(self, list_wc):\n",
        "    \"\"\"\n",
        "    Create a dictionary containing word counts\n",
        "    Args:\n",
        "      - list_wc: An iterable containing dictionaries of word_counts\n",
        "    \"\"\"\n",
        "    res = {}\n",
        "    for index, el in list_wc.iteritems():\n",
        "      # Iterating over the dict of words for each tagged sentence, and appending values to result dict\n",
        "      for word, counter in el.items():\n",
        "        res[word] = res.get(word, 0) + counter\n",
        "    return res\n",
        "  \n",
        "  def create_integer_embedding(self, tagged_s):\n",
        "    \"\"\"\n",
        "    Create an integer embedding for our sentences\n",
        "    \"\"\"\n",
        "    res = {}\n",
        "    ind = 1\n",
        "    for index, el in tagged_s.iteritems():\n",
        "      # Iterating over the list of tagged sentences, containing words\n",
        "      for word in el:\n",
        "        if word not in res:\n",
        "          res[word] = ind\n",
        "          ind += 1\n",
        "    return res\n",
        "  \n",
        "  def get_vocab_size(self):\n",
        "    return len(self.__int_embed) + 1\n",
        "  \n",
        "  def head(self, *args, **kwargs):\n",
        "    return self.__dataset.head(*args, **kwargs)"
      ],
      "execution_count": 0,
      "outputs": []
    },
    {
      "cell_type": "code",
      "metadata": {
        "id": "G0gh4fu50ZqU",
        "colab_type": "code",
        "colab": {}
      },
      "source": [
        "class myModel(nn.Module):\n",
        "  \"\"\"\n",
        "  Definition of our model\n",
        "  \"\"\"\n",
        "  \n",
        "  def __init__(self, input_dim, hidden_dim, vocab_size, output_dim=4, num_layers=1):\n",
        "    \"\"\"\n",
        "      Defining a LSTM model - parameters speaks for themselves\n",
        "    \"\"\"\n",
        "    super().__init__()\n",
        "    self.input_dim = input_dim\n",
        "    self.output_dim = output_dim\n",
        "    self.hidden_dim = hidden_dim\n",
        "    self.num_layers = num_layers\n",
        "    self.embeddings = nn.Embedding(vocab_size, input_dim)\n",
        "    self.lstm = nn.LSTM(self.input_dim, self.hidden_dim, self.num_layers, batch_first=True, dropout=0.2)\n",
        "    \n",
        "    self.linear = nn.Linear(self.hidden_dim, output_dim)\n",
        "    self.softmax = nn.Softmax(dim=1)\n",
        "    \n",
        "  def init_hidden(self, size):\n",
        "    \"\"\"\n",
        "        We need to create two empty vectors to store hn and cn at initial state\n",
        "    \"\"\"\n",
        "    return (torch.zeros(self.num_layers, size, self.hidden_dim).to(device),\n",
        "           torch.zeros(self.num_layers, size, self.hidden_dim).to(device))\n",
        "  \n",
        "  def forward(self, inputs):\n",
        "    \"\"\"\n",
        "      Computes a single forward pass on our input batch\n",
        "    \"\"\"\n",
        "    #print(input.shape)\n",
        "    #print(len(input))\n",
        "    # Get sizes\n",
        "    batch_size = inputs.size(0)\n",
        "    seq_size = inputs.size(1)\n",
        "    \n",
        "    # Embedding layer, getting 10 dimension vectors\n",
        "    embeds = self.embeddings(inputs).view(inputs.size(0), inputs.size(1), self.input_dim)\n",
        "    \n",
        "    # Creating h0, c0\n",
        "    h0, c0 = self.init_hidden(embeds.size(0))\n",
        "    \n",
        "    # Computing lstm out and transforming the output @read(contiguous space)\n",
        "    out, (h0, c0) = self.lstm(embeds, (h0, c0))\n",
        "    lstm_out = out.contiguous().view(batch_size, seq_size, self.hidden_dim)\n",
        "    \n",
        "    # Applying linear layer and softmax for output\n",
        "    output = self.linear(lstm_out[:, -1, :])\n",
        "    \n",
        "    # Getting last layer of probabilities\n",
        "    #sig_out = self.softmax(output).view(batch_size, seq_size, -1)[:, -1]\n",
        "    #return sig_out.view(batch_size, self.output_dim)\n",
        "    return output"
      ],
      "execution_count": 0,
      "outputs": []
    },
    {
      "cell_type": "code",
      "metadata": {
        "id": "Qal4t-SZ4Inz",
        "colab_type": "code",
        "outputId": "fa68c8e4-e29b-42a8-943c-97700f4706b5",
        "colab": {
          "base_uri": "https://localhost:8080/",
          "height": 374
        }
      },
      "source": [
        "!wget https://archive.ics.uci.edu/ml/machine-learning-databases/00359/NewsAggregatorDataset.zip\n",
        "!unzip NewsAggregatorDataset.zip\n",
        "!ls"
      ],
      "execution_count": 0,
      "outputs": [
        {
          "output_type": "stream",
          "text": [
            "--2019-06-26 08:08:16--  https://archive.ics.uci.edu/ml/machine-learning-databases/00359/NewsAggregatorDataset.zip\n",
            "Resolving archive.ics.uci.edu (archive.ics.uci.edu)... 128.195.10.252\n",
            "Connecting to archive.ics.uci.edu (archive.ics.uci.edu)|128.195.10.252|:443... connected.\n",
            "HTTP request sent, awaiting response... 200 OK\n",
            "Length: 29224203 (28M) [application/x-httpd-php]\n",
            "Saving to: ‘NewsAggregatorDataset.zip’\n",
            "\n",
            "NewsAggregatorDatas 100%[===================>]  27.87M  13.0MB/s    in 2.1s    \n",
            "\n",
            "2019-06-26 08:08:24 (13.0 MB/s) - ‘NewsAggregatorDataset.zip’ saved [29224203/29224203]\n",
            "\n",
            "Archive:  NewsAggregatorDataset.zip\n",
            "  inflating: 2pageSessions.csv       \n",
            "   creating: __MACOSX/\n",
            "  inflating: __MACOSX/._2pageSessions.csv  \n",
            "  inflating: newsCorpora.csv         \n",
            "  inflating: __MACOSX/._newsCorpora.csv  \n",
            "  inflating: readme.txt              \n",
            "  inflating: __MACOSX/._readme.txt   \n",
            "2pageSessions.csv  NewsAggregatorDataset.zip  readme.txt\n",
            "__MACOSX\t   newsCorpora.csv\t      sample_data\n"
          ],
          "name": "stdout"
        }
      ]
    },
    {
      "cell_type": "code",
      "metadata": {
        "id": "muUlEINE5DdB",
        "colab_type": "code",
        "outputId": "25a60d93-ed93-4241-a031-aabaf6a949d6",
        "colab": {
          "base_uri": "https://localhost:8080/",
          "height": 207
        }
      },
      "source": [
        "!head newsCorpora.csv"
      ],
      "execution_count": 0,
      "outputs": [
        {
          "output_type": "stream",
          "text": [
            "1\tFed official says weak data caused by weather, should not slow taper\thttp://www.latimes.com/business/money/la-fi-mo-federal-reserve-plosser-stimulus-economy-20140310,0,1312750.story\\?track=rss\tLos Angeles Times\tb\tddUyU0VZz0BRneMioxUPQVP6sIxvM\twww.latimes.com\t1394470370698\n",
            "2\tFed's Charles Plosser sees high bar for change in pace of tapering\thttp://www.livemint.com/Politics/H2EvwJSK2VE6OF7iK1g3PP/Feds-Charles-Plosser-sees-high-bar-for-change-in-pace-of-ta.html\tLivemint\tb\tddUyU0VZz0BRneMioxUPQVP6sIxvM\twww.livemint.com\t1394470371207\n",
            "3\tUS open: Stocks fall after Fed official hints at accelerated tapering\thttp://www.ifamagazine.com/news/us-open-stocks-fall-after-fed-official-hints-at-accelerated-tapering-294436\tIFA Magazine\tb\tddUyU0VZz0BRneMioxUPQVP6sIxvM\twww.ifamagazine.com\t1394470371550\n",
            "4\tFed risks falling 'behind the curve', Charles Plosser says\thttp://www.ifamagazine.com/news/fed-risks-falling-behind-the-curve-charles-plosser-says-294430\tIFA Magazine\tb\tddUyU0VZz0BRneMioxUPQVP6sIxvM\twww.ifamagazine.com\t1394470371793\n",
            "5\tFed's Plosser: Nasty Weather Has Curbed Job Growth\thttp://www.moneynews.com/Economy/federal-reserve-charles-plosser-weather-job-growth/2014/03/10/id/557011\tMoneynews\tb\tddUyU0VZz0BRneMioxUPQVP6sIxvM\twww.moneynews.com\t1394470372027\n",
            "6\tPlosser: Fed May Have to Accelerate Tapering Pace\thttp://www.nasdaq.com/article/plosser-fed-may-have-to-accelerate-tapering-pace-20140310-00371\tNASDAQ\tb\tddUyU0VZz0BRneMioxUPQVP6sIxvM\twww.nasdaq.com\t1394470372212\n",
            "7\tFed's Plosser: Taper pace may be too slow\thttp://www.marketwatch.com/story/feds-plosser-taper-pace-may-be-too-slow-2014-03-10\\?reflink=MW_news_stmp\tMarketWatch\tb\tddUyU0VZz0BRneMioxUPQVP6sIxvM\twww.marketwatch.com\t1394470372405\n",
            "8\tFed's Plosser expects US unemployment to fall to 6.2% by the end of 2014\thttp://www.fxstreet.com/news/forex-news/article.aspx\\?storyid=23285020-b1b5-47ed-a8c4-96124bb91a39\tFXstreet.com\tb\tddUyU0VZz0BRneMioxUPQVP6sIxvM\twww.fxstreet.com\t1394470372615\n",
            "9\tUS jobs growth last month hit by weather:Fed President Charles Plosser\thttp://economictimes.indiatimes.com/news/international/business/us-jobs-growth-last-month-hit-by-weatherfed-president-charles-plosser/articleshow/31788000.cms\tEconomic Times\tb\tddUyU0VZz0BRneMioxUPQVP6sIxvM\teconomictimes.indiatimes.com\t1394470372792\n",
            "10\tECB unlikely to end sterilisation of SMP purchases - traders\thttp://www.iii.co.uk/news-opinion/reuters/news/152615\tInteractive Investor\tb\tdPhGU51DcrolUIMxbRm0InaHGA2XM\twww.iii.co.uk\t1394470501265\n"
          ],
          "name": "stdout"
        }
      ]
    },
    {
      "cell_type": "markdown",
      "metadata": {
        "id": "MMBWI8wprQd7",
        "colab_type": "text"
      },
      "source": [
        "# Data import"
      ]
    },
    {
      "cell_type": "code",
      "metadata": {
        "id": "lqoG7qao46to",
        "colab_type": "code",
        "outputId": "24c87b2b-622c-4ded-f40b-926d4e7cd8b2",
        "colab": {
          "base_uri": "https://localhost:8080/",
          "height": 204
        }
      },
      "source": [
        "import pandas as pd\n",
        "\n",
        "my_df = Dataset(pd.read_csv(\"./newsCorpora.csv\", encoding=\"latin-1\", low_memory=False, sep=\"\\t\", header=None, \n",
        "                    names=[0, \"title\", \"url\", \"newspaper\", \"cat\", \"cluster\", \"website\", \"timestamp\"]).drop([0, \"url\", \"newspaper\", \"cluster\", \"website\", \"timestamp\"], axis=1))\n",
        "my_df.head(5)"
      ],
      "execution_count": 0,
      "outputs": [
        {
          "output_type": "execute_result",
          "data": {
            "text/html": [
              "<div>\n",
              "<style scoped>\n",
              "    .dataframe tbody tr th:only-of-type {\n",
              "        vertical-align: middle;\n",
              "    }\n",
              "\n",
              "    .dataframe tbody tr th {\n",
              "        vertical-align: top;\n",
              "    }\n",
              "\n",
              "    .dataframe thead th {\n",
              "        text-align: right;\n",
              "    }\n",
              "</style>\n",
              "<table border=\"1\" class=\"dataframe\">\n",
              "  <thead>\n",
              "    <tr style=\"text-align: right;\">\n",
              "      <th></th>\n",
              "      <th>title</th>\n",
              "      <th>cat</th>\n",
              "    </tr>\n",
              "  </thead>\n",
              "  <tbody>\n",
              "    <tr>\n",
              "      <th>0</th>\n",
              "      <td>Fed official says weak data caused by weather,...</td>\n",
              "      <td>b</td>\n",
              "    </tr>\n",
              "    <tr>\n",
              "      <th>1</th>\n",
              "      <td>Fed's Charles Plosser sees high bar for change...</td>\n",
              "      <td>b</td>\n",
              "    </tr>\n",
              "    <tr>\n",
              "      <th>2</th>\n",
              "      <td>US open: Stocks fall after Fed official hints ...</td>\n",
              "      <td>b</td>\n",
              "    </tr>\n",
              "    <tr>\n",
              "      <th>3</th>\n",
              "      <td>Fed risks falling 'behind the curve', Charles ...</td>\n",
              "      <td>b</td>\n",
              "    </tr>\n",
              "    <tr>\n",
              "      <th>4</th>\n",
              "      <td>Fed's Plosser: Nasty Weather Has Curbed Job Gr...</td>\n",
              "      <td>b</td>\n",
              "    </tr>\n",
              "  </tbody>\n",
              "</table>\n",
              "</div>"
            ],
            "text/plain": [
              "                                               title cat\n",
              "0  Fed official says weak data caused by weather,...   b\n",
              "1  Fed's Charles Plosser sees high bar for change...   b\n",
              "2  US open: Stocks fall after Fed official hints ...   b\n",
              "3  Fed risks falling 'behind the curve', Charles ...   b\n",
              "4  Fed's Plosser: Nasty Weather Has Curbed Job Gr...   b"
            ]
          },
          "metadata": {
            "tags": []
          },
          "execution_count": 4
        }
      ]
    },
    {
      "cell_type": "code",
      "metadata": {
        "id": "G6li8t79q3Bj",
        "colab_type": "code",
        "outputId": "95442e7a-b71b-4507-abfb-793aa96c84eb",
        "colab": {
          "base_uri": "https://localhost:8080/",
          "height": 512
        }
      },
      "source": [
        "my_df.preprocess_data()\n",
        "my_df.head(10)"
      ],
      "execution_count": 0,
      "outputs": [
        {
          "output_type": "stream",
          "text": [
            "Started pre-processing data..\n",
            "Tokenizer done !\n",
            "Categories done !\n",
            "Sentences tagged !\n",
            "Words counted !\n",
            "Unknown words tagged !\n",
            "Integers embeddings dict created !\n",
            "Sentences embedded into integers\n",
            "Dropped what should be dropped\n"
          ],
          "name": "stdout"
        },
        {
          "output_type": "execute_result",
          "data": {
            "text/html": [
              "<div>\n",
              "<style scoped>\n",
              "    .dataframe tbody tr th:only-of-type {\n",
              "        vertical-align: middle;\n",
              "    }\n",
              "\n",
              "    .dataframe tbody tr th {\n",
              "        vertical-align: top;\n",
              "    }\n",
              "\n",
              "    .dataframe thead th {\n",
              "        text-align: right;\n",
              "    }\n",
              "</style>\n",
              "<table border=\"1\" class=\"dataframe\">\n",
              "  <thead>\n",
              "    <tr style=\"text-align: right;\">\n",
              "      <th></th>\n",
              "      <th>title</th>\n",
              "      <th>ncat</th>\n",
              "      <th>tagged_unk</th>\n",
              "      <th>int_tagged</th>\n",
              "    </tr>\n",
              "  </thead>\n",
              "  <tbody>\n",
              "    <tr>\n",
              "      <th>0</th>\n",
              "      <td>Fed official says weak data caused by weather,...</td>\n",
              "      <td>[1, 0, 0, 0]</td>\n",
              "      <td>[xxmaj, fed, official, says, weak, data, cause...</td>\n",
              "      <td>[1, 2, 3, 4, 5, 6, 7, 8, 9, 10, 11, 12, 13, 14]</td>\n",
              "    </tr>\n",
              "    <tr>\n",
              "      <th>1</th>\n",
              "      <td>Fed's Charles Plosser sees high bar for change...</td>\n",
              "      <td>[1, 0, 0, 0]</td>\n",
              "      <td>[xxmaj, fed, 's, xxmaj, charles, xxmaj, plosse...</td>\n",
              "      <td>[1, 2, 15, 1, 16, 1, 17, 18, 19, 20, 21, 22, 2...</td>\n",
              "    </tr>\n",
              "    <tr>\n",
              "      <th>2</th>\n",
              "      <td>US open: Stocks fall after Fed official hints ...</td>\n",
              "      <td>[1, 0, 0, 0]</td>\n",
              "      <td>[xxup, us, open, :, xxmaj, stocks, fall, after...</td>\n",
              "      <td>[27, 28, 29, 30, 1, 31, 32, 33, 1, 2, 3, 34, 3...</td>\n",
              "    </tr>\n",
              "    <tr>\n",
              "      <th>3</th>\n",
              "      <td>Fed risks falling 'behind the curve', Charles ...</td>\n",
              "      <td>[1, 0, 0, 0]</td>\n",
              "      <td>[xxmaj, fed, risks, falling, ', behind, the, c...</td>\n",
              "      <td>[1, 2, 37, 38, 39, 40, 41, 42, 39, 10, 1, 16, ...</td>\n",
              "    </tr>\n",
              "    <tr>\n",
              "      <th>4</th>\n",
              "      <td>Fed's Plosser: Nasty Weather Has Curbed Job Gr...</td>\n",
              "      <td>[1, 0, 0, 0]</td>\n",
              "      <td>[xxmaj, fed, 's, xxmaj, plosser, :, xxmaj, nas...</td>\n",
              "      <td>[1, 2, 15, 1, 17, 30, 1, 43, 1, 9, 1, 44, 1, 4...</td>\n",
              "    </tr>\n",
              "    <tr>\n",
              "      <th>5</th>\n",
              "      <td>Plosser: Fed May Have to Accelerate Tapering Pace</td>\n",
              "      <td>[1, 0, 0, 0]</td>\n",
              "      <td>[xxmaj, plosser, :, xxmaj, fed, xxmaj, may, xx...</td>\n",
              "      <td>[1, 17, 30, 1, 2, 1, 48, 1, 49, 50, 1, 51, 1, ...</td>\n",
              "    </tr>\n",
              "    <tr>\n",
              "      <th>6</th>\n",
              "      <td>Fed's Plosser: Taper pace may be too slow</td>\n",
              "      <td>[1, 0, 0, 0]</td>\n",
              "      <td>[xxmaj, fed, 's, xxmaj, plosser, :, xxmaj, tap...</td>\n",
              "      <td>[1, 2, 15, 1, 17, 30, 1, 14, 24, 48, 52, 53, 13]</td>\n",
              "    </tr>\n",
              "    <tr>\n",
              "      <th>7</th>\n",
              "      <td>Fed's Plosser expects US unemployment to fall ...</td>\n",
              "      <td>[1, 0, 0, 0]</td>\n",
              "      <td>[xxmaj, fed, 's, xxmaj, plosser, expects, xxup...</td>\n",
              "      <td>[1, 2, 15, 1, 17, 54, 27, 28, 55, 50, 32, 50, ...</td>\n",
              "    </tr>\n",
              "    <tr>\n",
              "      <th>8</th>\n",
              "      <td>US jobs growth last month hit by weather:Fed P...</td>\n",
              "      <td>[1, 0, 0, 0]</td>\n",
              "      <td>[xxup, us, jobs, growth, last, month, hit, by,...</td>\n",
              "      <td>[27, 28, 60, 47, 61, 62, 63, 8, 9, 30, 1, 2, 1...</td>\n",
              "    </tr>\n",
              "    <tr>\n",
              "      <th>9</th>\n",
              "      <td>ECB unlikely to end sterilisation of SMP purch...</td>\n",
              "      <td>[1, 0, 0, 0]</td>\n",
              "      <td>[xxup, ecb, unlikely, to, end, xxunk, of, xxup...</td>\n",
              "      <td>[27, 65, 66, 50, 58, 67, 25, 27, 68, 69, 70, 71]</td>\n",
              "    </tr>\n",
              "  </tbody>\n",
              "</table>\n",
              "</div>"
            ],
            "text/plain": [
              "                                               title  ...                                         int_tagged\n",
              "0  Fed official says weak data caused by weather,...  ...    [1, 2, 3, 4, 5, 6, 7, 8, 9, 10, 11, 12, 13, 14]\n",
              "1  Fed's Charles Plosser sees high bar for change...  ...  [1, 2, 15, 1, 16, 1, 17, 18, 19, 20, 21, 22, 2...\n",
              "2  US open: Stocks fall after Fed official hints ...  ...  [27, 28, 29, 30, 1, 31, 32, 33, 1, 2, 3, 34, 3...\n",
              "3  Fed risks falling 'behind the curve', Charles ...  ...  [1, 2, 37, 38, 39, 40, 41, 42, 39, 10, 1, 16, ...\n",
              "4  Fed's Plosser: Nasty Weather Has Curbed Job Gr...  ...  [1, 2, 15, 1, 17, 30, 1, 43, 1, 9, 1, 44, 1, 4...\n",
              "5  Plosser: Fed May Have to Accelerate Tapering Pace  ...  [1, 17, 30, 1, 2, 1, 48, 1, 49, 50, 1, 51, 1, ...\n",
              "6          Fed's Plosser: Taper pace may be too slow  ...   [1, 2, 15, 1, 17, 30, 1, 14, 24, 48, 52, 53, 13]\n",
              "7  Fed's Plosser expects US unemployment to fall ...  ...  [1, 2, 15, 1, 17, 54, 27, 28, 55, 50, 32, 50, ...\n",
              "8  US jobs growth last month hit by weather:Fed P...  ...  [27, 28, 60, 47, 61, 62, 63, 8, 9, 30, 1, 2, 1...\n",
              "9  ECB unlikely to end sterilisation of SMP purch...  ...   [27, 65, 66, 50, 58, 67, 25, 27, 68, 69, 70, 71]\n",
              "\n",
              "[10 rows x 4 columns]"
            ]
          },
          "metadata": {
            "tags": []
          },
          "execution_count": 5
        }
      ]
    },
    {
      "cell_type": "code",
      "metadata": {
        "id": "8xbczAaY0rf0",
        "colab_type": "code",
        "colab": {}
      },
      "source": [
        "df_copy = my_df._Dataset__dataset\n",
        "vocab_size = my_df.get_vocab_size()"
      ],
      "execution_count": 0,
      "outputs": []
    },
    {
      "cell_type": "code",
      "metadata": {
        "id": "IxaofLCc1TBD",
        "colab_type": "code",
        "outputId": "06d4d5c4-6e04-4b13-e4c0-c25c394ddd9a",
        "colab": {
          "base_uri": "https://localhost:8080/",
          "height": 204
        }
      },
      "source": [
        "my_df = Dataset(df_copy)\n",
        "my_df.head(5)"
      ],
      "execution_count": 0,
      "outputs": [
        {
          "output_type": "execute_result",
          "data": {
            "text/html": [
              "<div>\n",
              "<style scoped>\n",
              "    .dataframe tbody tr th:only-of-type {\n",
              "        vertical-align: middle;\n",
              "    }\n",
              "\n",
              "    .dataframe tbody tr th {\n",
              "        vertical-align: top;\n",
              "    }\n",
              "\n",
              "    .dataframe thead th {\n",
              "        text-align: right;\n",
              "    }\n",
              "</style>\n",
              "<table border=\"1\" class=\"dataframe\">\n",
              "  <thead>\n",
              "    <tr style=\"text-align: right;\">\n",
              "      <th></th>\n",
              "      <th>title</th>\n",
              "      <th>ncat</th>\n",
              "      <th>tagged_unk</th>\n",
              "      <th>int_tagged</th>\n",
              "    </tr>\n",
              "  </thead>\n",
              "  <tbody>\n",
              "    <tr>\n",
              "      <th>0</th>\n",
              "      <td>Fed official says weak data caused by weather,...</td>\n",
              "      <td>[1, 0, 0, 0]</td>\n",
              "      <td>[xxmaj, fed, official, says, weak, data, cause...</td>\n",
              "      <td>[1, 2, 3, 4, 5, 6, 7, 8, 9, 10, 11, 12, 13, 14]</td>\n",
              "    </tr>\n",
              "    <tr>\n",
              "      <th>1</th>\n",
              "      <td>Fed's Charles Plosser sees high bar for change...</td>\n",
              "      <td>[1, 0, 0, 0]</td>\n",
              "      <td>[xxmaj, fed, 's, xxmaj, charles, xxmaj, plosse...</td>\n",
              "      <td>[1, 2, 15, 1, 16, 1, 17, 18, 19, 20, 21, 22, 2...</td>\n",
              "    </tr>\n",
              "    <tr>\n",
              "      <th>2</th>\n",
              "      <td>US open: Stocks fall after Fed official hints ...</td>\n",
              "      <td>[1, 0, 0, 0]</td>\n",
              "      <td>[xxup, us, open, :, xxmaj, stocks, fall, after...</td>\n",
              "      <td>[27, 28, 29, 30, 1, 31, 32, 33, 1, 2, 3, 34, 3...</td>\n",
              "    </tr>\n",
              "    <tr>\n",
              "      <th>3</th>\n",
              "      <td>Fed risks falling 'behind the curve', Charles ...</td>\n",
              "      <td>[1, 0, 0, 0]</td>\n",
              "      <td>[xxmaj, fed, risks, falling, ', behind, the, c...</td>\n",
              "      <td>[1, 2, 37, 38, 39, 40, 41, 42, 39, 10, 1, 16, ...</td>\n",
              "    </tr>\n",
              "    <tr>\n",
              "      <th>4</th>\n",
              "      <td>Fed's Plosser: Nasty Weather Has Curbed Job Gr...</td>\n",
              "      <td>[1, 0, 0, 0]</td>\n",
              "      <td>[xxmaj, fed, 's, xxmaj, plosser, :, xxmaj, nas...</td>\n",
              "      <td>[1, 2, 15, 1, 17, 30, 1, 43, 1, 9, 1, 44, 1, 4...</td>\n",
              "    </tr>\n",
              "  </tbody>\n",
              "</table>\n",
              "</div>"
            ],
            "text/plain": [
              "                                               title  ...                                         int_tagged\n",
              "0  Fed official says weak data caused by weather,...  ...    [1, 2, 3, 4, 5, 6, 7, 8, 9, 10, 11, 12, 13, 14]\n",
              "1  Fed's Charles Plosser sees high bar for change...  ...  [1, 2, 15, 1, 16, 1, 17, 18, 19, 20, 21, 22, 2...\n",
              "2  US open: Stocks fall after Fed official hints ...  ...  [27, 28, 29, 30, 1, 31, 32, 33, 1, 2, 3, 34, 3...\n",
              "3  Fed risks falling 'behind the curve', Charles ...  ...  [1, 2, 37, 38, 39, 40, 41, 42, 39, 10, 1, 16, ...\n",
              "4  Fed's Plosser: Nasty Weather Has Curbed Job Gr...  ...  [1, 2, 15, 1, 17, 30, 1, 43, 1, 9, 1, 44, 1, 4...\n",
              "\n",
              "[5 rows x 4 columns]"
            ]
          },
          "metadata": {
            "tags": []
          },
          "execution_count": 37
        }
      ]
    },
    {
      "cell_type": "code",
      "metadata": {
        "id": "HhDEueWv3bPV",
        "colab_type": "code",
        "outputId": "7603a5e1-045b-442e-d142-66af0b5cee34",
        "colab": {
          "base_uri": "https://localhost:8080/",
          "height": 51
        }
      },
      "source": [
        "my_df.create_train_test_tensors()\n",
        "print([len(i) for i in my_df._Dataset__train_datasets])\n",
        "print([len(i) for i in my_df._Dataset__test_datasets])"
      ],
      "execution_count": 0,
      "outputs": [
        {
          "output_type": "stream",
          "text": [
            "[124858, 96145, 55584, 23293, 3903]\n",
            "[13750, 10657, 6175, 2683, 423]\n"
          ],
          "name": "stdout"
        }
      ]
    },
    {
      "cell_type": "code",
      "metadata": {
        "id": "587eti4Mml-M",
        "colab_type": "code",
        "colab": {}
      },
      "source": [
        "batch_x, batch_y = my_df.get_batch(size=32)"
      ],
      "execution_count": 0,
      "outputs": []
    },
    {
      "cell_type": "code",
      "metadata": {
        "id": "wWq1QXeT2S1x",
        "colab_type": "code",
        "outputId": "7133279c-1523-4989-f3d3-ac6c41ec6b86",
        "colab": {
          "base_uri": "https://localhost:8080/",
          "height": 119
        }
      },
      "source": [
        "model = myModel(300, 300, vocab_size, num_layers=2).to(device)\n",
        "print(model)"
      ],
      "execution_count": 0,
      "outputs": [
        {
          "output_type": "stream",
          "text": [
            "myModel(\n",
            "  (embeddings): Embedding(38186, 300)\n",
            "  (lstm): LSTM(300, 300, num_layers=2, batch_first=True, dropout=0.2)\n",
            "  (linear): Linear(in_features=300, out_features=4, bias=True)\n",
            "  (softmax): Softmax()\n",
            ")\n"
          ],
          "name": "stdout"
        }
      ]
    },
    {
      "cell_type": "code",
      "metadata": {
        "id": "dfCb_9Dofb78",
        "colab_type": "code",
        "colab": {}
      },
      "source": [
        "sum([1 if a == b else 0 for (a, b) in list(zip(np.argmax(model(batch_x).detach().numpy(), axis=1), np.argmax(batch_y.numpy(), axis=1)))])"
      ],
      "execution_count": 0,
      "outputs": []
    },
    {
      "cell_type": "code",
      "metadata": {
        "id": "ojws-XjHdYcX",
        "colab_type": "code",
        "colab": {}
      },
      "source": [
        "batch_size = [128, 256, 512]\n",
        "lrs = [0.01, 0.001, 0.0001]"
      ],
      "execution_count": 0,
      "outputs": []
    },
    {
      "cell_type": "code",
      "metadata": {
        "id": "UmB3w5Ik7bNc",
        "colab_type": "code",
        "outputId": "9ceda886-d14c-476c-9aa0-818e32d69b13",
        "colab": {
          "base_uri": "https://localhost:8080/",
          "height": 1000
        }
      },
      "source": [
        "test_BCE_loss = []\n",
        "test_CE_loss = []\n",
        "test_acc = []\n",
        "train_acc = []\n",
        "\n",
        "\n",
        "for sz, lr in zip(batch_size, lrs):\n",
        "  #loss_fn = torch.nn.BCELoss(reduction=\"sum\")\n",
        "  loss_fn = torch.nn.CrossEntropyLoss()\n",
        "  optim = torch.optim.Adam(model.parameters(), lr=lr)\n",
        "  \n",
        "  for t in range(3000):\n",
        "    # Getting batch of data\n",
        "    batch_x, batch_y = my_df.get_batch(size=sz)\n",
        "    \n",
        "    # Computing loss and predictions\n",
        "    y_pred = model(batch_x)\n",
        "    #loss_bce = loss_fn(y_pred.float(), batch_y.float())\n",
        "    loss = loss_fn(y_pred.float(), torch.argmax(batch_y.float(), 1))\n",
        "    \n",
        "    # Gradient and optimizer steps\n",
        "    optim.zero_grad()\n",
        "    loss.backward()\n",
        "    optim.step()\n",
        "    \n",
        "    # Computing accuracy every 500 steps and generating graphs\n",
        "    if (t) % 10 == 0:\n",
        "      # test_size and subset size for loss computing and plotting purpose\n",
        "      test_size=15000\n",
        "      subset_size=10000\n",
        "      \n",
        "      with torch.no_grad():\n",
        "        # Creating two loss functions\n",
        "        #loss_test = torch.nn.BCELoss()\n",
        "        loss_test_cross_e = torch.nn.CrossEntropyLoss()\n",
        "        test_batch_x, test_batch_y = my_df.get_batch(size=subset_size, test=True)\n",
        "\n",
        "        # Generating predictions\n",
        "        outputs = model(test_batch_x)\n",
        "        #print(outputs)\n",
        "        \n",
        "        # Losses\n",
        "        #BCE = loss_test(outputs.float(), test_batch_y.float())\n",
        "        CE = loss_test_cross_e(outputs.float(), torch.argmax(test_batch_y.float(), 1))\n",
        "        #test_BCE_loss.append(BCE)\n",
        "        test_CE_loss.append(CE)\n",
        "        \n",
        "        # Computing test accuracy\n",
        "        acc = sum([1 if a == b else 0 for (a, b) in list(zip(np.argmax(outputs.detach().cpu().numpy(), axis=1), np.argmax(test_batch_y.cpu().numpy(), axis=1)))])/subset_size\n",
        "        test_acc.append(acc)\n",
        "        \n",
        "        # Getting train dataset for accuracy computing and computing it\n",
        "        subset_train = 3000\n",
        "        train_batch_x, train_batch_y = my_df.get_batch(size=subset_train)\n",
        "        outputs_train = model(train_batch_x)\n",
        "        acc_tr = sum([1 if a == b else 0 for (a, b) in list(zip(np.argmax(outputs_train.detach().cpu().numpy(), axis=1), np.argmax(train_batch_y.cpu().numpy(), axis=1)))])/subset_train\n",
        "        train_acc.append(acc_tr)\n",
        "        \n",
        "        if (t) % 500 == 0:\n",
        "          #print(f\"Batch size: {my_size}\")\n",
        "          print(f\"Training loss (CE): {loss}\")\n",
        "          #print(f\"Test BCELoss = {BCE}\")\n",
        "          print(f\"Test CELoss = {CE}\")\n",
        "          print(f\"Test accuracy = {acc}\")\n",
        "          print(f\"Train accuracy = {acc_tr}\")\n",
        "          print(\"----------\")"
      ],
      "execution_count": 0,
      "outputs": [
        {
          "output_type": "stream",
          "text": [
            "Training loss (CE): 1.3855879306793213\n",
            "Test CELoss = 1.6745727062225342\n",
            "Test accuracy = 0.2674\n",
            "Train accuracy = 0.31\n",
            "----------\n",
            "Training loss (CE): 0.34555280208587646\n",
            "Test CELoss = 0.2491496354341507\n",
            "Test accuracy = 0.913\n",
            "Train accuracy = 0.902\n",
            "----------\n",
            "Training loss (CE): 0.10764802992343903\n",
            "Test CELoss = 0.2171562761068344\n",
            "Test accuracy = 0.9247\n",
            "Train accuracy = 0.9176666666666666\n",
            "----------\n",
            "Training loss (CE): 0.06007417291402817\n",
            "Test CELoss = 0.2013523280620575\n",
            "Test accuracy = 0.9299\n",
            "Train accuracy = 0.9356666666666666\n",
            "----------\n",
            "Training loss (CE): 0.10680224746465683\n",
            "Test CELoss = 0.19514340162277222\n",
            "Test accuracy = 0.9342\n",
            "Train accuracy = 0.941\n",
            "----------\n",
            "Training loss (CE): 0.15155038237571716\n",
            "Test CELoss = 0.1848246455192566\n",
            "Test accuracy = 0.9373\n",
            "Train accuracy = 0.944\n",
            "----------\n",
            "Training loss (CE): 0.19512447714805603\n",
            "Test CELoss = 0.1829252392053604\n",
            "Test accuracy = 0.9336\n",
            "Train accuracy = 0.9476666666666667\n",
            "----------\n",
            "Training loss (CE): 0.12284480780363083\n",
            "Test CELoss = 0.1651974618434906\n",
            "Test accuracy = 0.9422\n",
            "Train accuracy = 0.958\n",
            "----------\n",
            "Training loss (CE): 0.06698586046695709\n",
            "Test CELoss = 0.16201180219650269\n",
            "Test accuracy = 0.9435\n",
            "Train accuracy = 0.948\n",
            "----------\n",
            "Training loss (CE): 0.08504363894462585\n",
            "Test CELoss = 0.15859311819076538\n",
            "Test accuracy = 0.9434\n",
            "Train accuracy = 0.9626666666666667\n",
            "----------\n",
            "Training loss (CE): 0.10913237929344177\n",
            "Test CELoss = 0.15262296795845032\n",
            "Test accuracy = 0.9476\n",
            "Train accuracy = 0.9596666666666667\n",
            "----------\n",
            "Training loss (CE): 0.06279421597719193\n",
            "Test CELoss = 0.15085501968860626\n",
            "Test accuracy = 0.949\n",
            "Train accuracy = 0.9596666666666667\n",
            "----------\n",
            "Training loss (CE): 0.09849097579717636\n",
            "Test CELoss = 0.15173912048339844\n",
            "Test accuracy = 0.9479\n",
            "Train accuracy = 0.968\n",
            "----------\n",
            "Training loss (CE): 0.13510820269584656\n",
            "Test CELoss = 0.14889298379421234\n",
            "Test accuracy = 0.9501\n",
            "Train accuracy = 0.9716666666666667\n",
            "----------\n",
            "Training loss (CE): 0.08697712421417236\n",
            "Test CELoss = 0.1515842080116272\n",
            "Test accuracy = 0.9486\n",
            "Train accuracy = 0.9663333333333334\n",
            "----------\n",
            "Training loss (CE): 0.09383823722600937\n",
            "Test CELoss = 0.14889684319496155\n",
            "Test accuracy = 0.9498\n",
            "Train accuracy = 0.9806666666666667\n",
            "----------\n",
            "Training loss (CE): 0.0788491815328598\n",
            "Test CELoss = 0.14778976142406464\n",
            "Test accuracy = 0.9509\n",
            "Train accuracy = 0.969\n",
            "----------\n",
            "Training loss (CE): 0.09179717302322388\n",
            "Test CELoss = 0.15295763313770294\n",
            "Test accuracy = 0.9491\n",
            "Train accuracy = 0.9836666666666667\n",
            "----------\n"
          ],
          "name": "stdout"
        }
      ]
    },
    {
      "cell_type": "code",
      "metadata": {
        "id": "FM7RB0TfyFvp",
        "colab_type": "code",
        "outputId": "4db45984-c8a8-43f2-d25d-a49d179819ee",
        "colab": {
          "base_uri": "https://localhost:8080/",
          "height": 847
        }
      },
      "source": [
        "plt.figure(figsize=(15, 7))\n",
        "#plt.plot(test_BCE_loss)\n",
        "plt.plot(test_CE_loss)\n",
        "plt.show()\n",
        "plt.figure(figsize=(15, 7))\n",
        "plt.plot(train_acc)\n",
        "plt.plot(test_acc)\n",
        "plt.show()"
      ],
      "execution_count": 0,
      "outputs": [
        {
          "output_type": "display_data",
          "data": {
            "image/png": "[encoded data removed]",
            "text/plain": [
              "<Figure size 1080x504 with 1 Axes>"
            ]
          },
          "metadata": {
            "tags": []
          }
        },
        {
          "output_type": "display_data",
          "data": {
            "image/png": "[encoded data removed]",
            "text/plain": [
              "<Figure size 1080x504 with 1 Axes>"
            ]
          },
          "metadata": {
            "tags": []
          }
        }
      ]
    },
    {
      "cell_type": "code",
      "metadata": {
        "id": "ZmBlkXS96umg",
        "colab_type": "code",
        "outputId": "82744a9e-68f0-477a-86b6-fc7c8ea3c21d",
        "colab": {
          "base_uri": "https://localhost:8080/",
          "height": 34
        }
      },
      "source": [
        "my_df.create_train_test_tensors()\n",
        "len(my_df._Dataset__dataset)"
      ],
      "execution_count": 0,
      "outputs": [
        {
          "output_type": "execute_result",
          "data": {
            "text/plain": [
              "54066"
            ]
          },
          "metadata": {
            "tags": []
          },
          "execution_count": 32
        }
      ]
    },
    {
      "cell_type": "code",
      "metadata": {
        "id": "nojvipbw-TzF",
        "colab_type": "code",
        "colab": {}
      },
      "source": [
        "plt.figure(figsize=(15, 7))\n",
        "my_df._Dataset__dataset[\"int_tagged\"].apply(lambda x: len(x)).value_counts().sort_index().plot.bar()\n",
        "plt.show()\n",
        "my_df._Dataset__dataset[\"int_tagged\"].apply(lambda x: len(x)).value_counts().sort_index()"
      ],
      "execution_count": 0,
      "outputs": []
    },
    {
      "cell_type": "code",
      "metadata": {
        "id": "mQbGnBB7BiHl",
        "colab_type": "code",
        "colab": {}
      },
      "source": [
        "plt.figure(figsize=(15, 7))\n",
        "my_df._Dataset__dataset[\"int_tagged\"].apply(lambda x: len(x)).value_counts().sort_index().cumsum().plot.bar()\n",
        "plt.show()"
      ],
      "execution_count": 0,
      "outputs": []
    },
    {
      "cell_type": "code",
      "metadata": {
        "id": "m-9-fjrPLV7D",
        "colab_type": "code",
        "colab": {}
      },
      "source": [
        "my_df._Dataset__dataset[[\"int_tagged\", \"ncat\"]][0:10]"
      ],
      "execution_count": 0,
      "outputs": []
    },
    {
      "cell_type": "code",
      "metadata": {
        "id": "obmmvldw53XG",
        "colab_type": "code",
        "colab": {}
      },
      "source": [
        "# Experiments\n",
        "\"\"\"\n",
        "1/ Apply tokenization and lemmatization on titles\n",
        "2/ Transform them on integers\n",
        "3/ Train a model language to create a vector representation\n",
        "4/ Use the language model as embedding layer\n",
        "5/ Train a neural network to predict classes\n",
        "\n",
        "\n",
        "We can first start by training the neural network without creating language models\n",
        "Will certainly be longer and yield lower results\n",
        "\"\"\""
      ],
      "execution_count": 0,
      "outputs": []
    }
  ]
}